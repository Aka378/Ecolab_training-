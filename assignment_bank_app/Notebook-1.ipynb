{
    "metadata": {
        "kernelspec": {
            "name": "SQL",
            "display_name": "SQL",
            "language": "sql"
        },
        "language_info": {
            "name": "sql",
            "version": ""
        }
    },
    "nbformat_minor": 2,
    "nbformat": 4,
    "cells": [
        {
            "cell_type": "markdown",
            "source": [
                "Advance queries"
            ],
            "metadata": {
                "azdata_cell_guid": "d4131d74-9abb-4102-bf4b-389d85194a16"
            },
            "attachments": {}
        },
        {
            "cell_type": "code",
            "source": [
                "CREATE DATABASE ecolab_Book_db2"
            ],
            "metadata": {
                "azdata_cell_guid": "8f0699c0-829a-4901-b834-dcdad88ee7cb",
                "language": "sql"
            },
            "outputs": [
                {
                    "output_type": "error",
                    "evalue": "Msg 1801, Level 16, State 3, Line 1\r\nDatabase 'ecolab_Book_db2' already exists. Choose a different database name.",
                    "ename": "",
                    "traceback": []
                },
                {
                    "output_type": "display_data",
                    "data": {
                        "text/html": "Total execution time: 00:00:00.001"
                    },
                    "metadata": {}
                }
            ],
            "execution_count": 11
        },
        {
            "cell_type": "code",
            "source": [
                "use ecolab_Book_db2"
            ],
            "metadata": {
                "language": "sql",
                "azdata_cell_guid": "2a3237a8-2894-4b5b-9433-8ae34ea1701f"
            },
            "outputs": [
                {
                    "output_type": "display_data",
                    "data": {
                        "text/html": "Commands completed successfully."
                    },
                    "metadata": {}
                },
                {
                    "output_type": "display_data",
                    "data": {
                        "text/html": "Total execution time: 00:00:00.279"
                    },
                    "metadata": {}
                }
            ],
            "execution_count": 2
        },
        {
            "cell_type": "code",
            "source": [
                "CREATE TABLE Authors (\r\n",
                "    ID INT PRIMARY KEY,\r\n",
                "    NAME VARCHAR(255)\r\n",
                ");"
            ],
            "metadata": {
                "language": "sql",
                "azdata_cell_guid": "841c4bc6-c036-41ca-a2c3-6eb26ddd5f22",
                "tags": []
            },
            "outputs": [
                {
                    "output_type": "display_data",
                    "data": {
                        "text/html": "Commands completed successfully."
                    },
                    "metadata": {}
                },
                {
                    "output_type": "display_data",
                    "data": {
                        "text/html": "Total execution time: 00:00:00.076"
                    },
                    "metadata": {}
                }
            ],
            "execution_count": 3
        },
        {
            "cell_type": "code",
            "source": [
                ""
            ],
            "metadata": {
                "language": "sql",
                "azdata_cell_guid": "7f3ba72d-f34c-4275-b356-897ede588744"
            },
            "outputs": [
                {
                    "output_type": "display_data",
                    "data": {
                        "text/html": "Commands completed successfully."
                    },
                    "metadata": {}
                },
                {
                    "output_type": "display_data",
                    "data": {
                        "text/html": "Total execution time: 00:00:00.071"
                    },
                    "metadata": {}
                }
            ],
            "execution_count": 22
        },
        {
            "cell_type": "code",
            "source": [
                "CREATE TABLE Books (\r\n",
                "    ID INT PRIMARY KEY,\r\n",
                "    TITLE VARCHAR(255),\r\n",
                "    AUTHOR_ID INT,\r\n",
                "    PRICE FLOAT,\r\n",
                "    FOREIGN KEY (AUTHOR_ID) REFERENCES Authors(ID)\r\n",
                ");"
            ],
            "metadata": {
                "azdata_cell_guid": "8181c3c9-601d-484f-abb3-7381f484d926",
                "language": "sql"
            },
            "outputs": [
                {
                    "output_type": "display_data",
                    "data": {
                        "text/html": "Commands completed successfully."
                    },
                    "metadata": {}
                },
                {
                    "output_type": "display_data",
                    "data": {
                        "text/html": "Total execution time: 00:00:00.073"
                    },
                    "metadata": {}
                }
            ],
            "execution_count": 4
        },
        {
            "cell_type": "code",
            "source": [
                "CREATE TABLE Users (\r\n",
                "    ID INT PRIMARY KEY,\r\n",
                "    NAME VARCHAR(255)\r\n",
                ");"
            ],
            "metadata": {
                "language": "sql",
                "azdata_cell_guid": "da18ad35-1d39-400b-a061-d22eeae6723b"
            },
            "outputs": [
                {
                    "output_type": "display_data",
                    "data": {
                        "text/html": "Commands completed successfully."
                    },
                    "metadata": {}
                },
                {
                    "output_type": "display_data",
                    "data": {
                        "text/html": "Total execution time: 00:00:00.072"
                    },
                    "metadata": {}
                }
            ],
            "execution_count": 5
        },
        {
            "cell_type": "code",
            "source": [
                "CREATE TABLE Reviews (\r\n",
                "    ID INT PRIMARY KEY,\r\n",
                "    BOOK_ID INT,\r\n",
                "    USER_ID INT,\r\n",
                "    RATING INT,\r\n",
                "    COMMENT TEXT,\r\n",
                "    FOREIGN KEY (BOOK_ID) REFERENCES Books(ID),\r\n",
                "    FOREIGN KEY (USER_ID) REFERENCES Users(ID)\r\n",
                ");"
            ],
            "metadata": {
                "language": "sql",
                "azdata_cell_guid": "ef7314e3-08ab-41ba-a68d-c97dd114c647"
            },
            "outputs": [
                {
                    "output_type": "display_data",
                    "data": {
                        "text/html": "Commands completed successfully."
                    },
                    "metadata": {}
                },
                {
                    "output_type": "display_data",
                    "data": {
                        "text/html": "Total execution time: 00:00:00.071"
                    },
                    "metadata": {}
                }
            ],
            "execution_count": 6
        },
        {
            "cell_type": "code",
            "source": [
                "INSERT INTO Authors (ID, NAME) VALUES (1, 'akash')\r\n",
                ", (2, 'arun');"
            ],
            "metadata": {
                "language": "sql",
                "azdata_cell_guid": "765c1b8d-0da8-4b0a-a3c7-4736def17ee4"
            },
            "outputs": [
                {
                    "output_type": "display_data",
                    "data": {
                        "text/html": "(1 row affected)"
                    },
                    "metadata": {}
                },
                {
                    "output_type": "display_data",
                    "data": {
                        "text/html": "(1 row affected)"
                    },
                    "metadata": {}
                },
                {
                    "output_type": "display_data",
                    "data": {
                        "text/html": "Total execution time: 00:00:00.076"
                    },
                    "metadata": {}
                }
            ],
            "execution_count": 7
        },
        {
            "cell_type": "code",
            "source": [
                "INSERT INTO Books (ID, TITLE, AUTHOR_ID, PRICE) VALUES (1, 'manas', 1, 20.99)\r\n",
                ", (2, 'harry potter', 2, 15.50);"
            ],
            "metadata": {
                "language": "sql",
                "azdata_cell_guid": "cbeca777-535b-4b38-a88d-cedfe1ff5bfb"
            },
            "outputs": [
                {
                    "output_type": "display_data",
                    "data": {
                        "text/html": "(2 rows affected)"
                    },
                    "metadata": {}
                },
                {
                    "output_type": "display_data",
                    "data": {
                        "text/html": "Total execution time: 00:00:00.077"
                    },
                    "metadata": {}
                }
            ],
            "execution_count": 8
        },
        {
            "cell_type": "code",
            "source": [
                "INSERT INTO Users (ID, NAME) VALUES (4, 'amar'),\r\n",
                " (3, 'anup');"
            ],
            "metadata": {
                "language": "sql",
                "azdata_cell_guid": "6ac66830-834f-46a4-8008-8f35cc50012b"
            },
            "outputs": [
                {
                    "output_type": "display_data",
                    "data": {
                        "text/html": "(2 rows affected)"
                    },
                    "metadata": {}
                },
                {
                    "output_type": "display_data",
                    "data": {
                        "text/html": "Total execution time: 00:00:00.070"
                    },
                    "metadata": {}
                }
            ],
            "execution_count": 10
        },
        {
            "cell_type": "code",
            "source": [
                "INSERT INTO Reviews (ID, BOOK_ID, USER_ID, RATING, COMMENT) VALUES (1, 1, 1, 5, 'Great book!'),\r\n",
                "(2, 2, 2, 4, 'Enjoyed reading it.');"
            ],
            "metadata": {
                "language": "sql",
                "azdata_cell_guid": "5079989c-7ad3-4b40-86e9-813712d434c2"
            },
            "outputs": [],
            "execution_count": null
        }
    ]
}